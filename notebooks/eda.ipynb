{
 "cells": [
  {
   "metadata": {
    "id": "a524b3059ef5155c",
    "jupyter": {
     "is_executing": true
    }
   },
   "cell_type": "code",
   "source": [
    "import pandas as pd\n",
    "\n",
    "# Ruta de los datos (ajusta el XX con tu número de dataset)\n",
    "data_path = \"/data/attrition_availabledata_07.csv.gz\"\n",
    "df = pd.read_csv(data_path, compression='gzip')"
   ],
   "id": "a524b3059ef5155c",
   "outputs": [],
   "execution_count": null
  },
  {
   "metadata": {
    "id": "73a284989bf445bd",
    "outputId": "bc70cc12-5e6b-48a6-d5ec-c8332c3b8fc3",
    "colab": {
     "base_uri": "https://localhost:8080/",
     "height": 325
    }
   },
   "cell_type": "code",
   "source": [
    "# Ver las primeras filas\n",
    "df.head()"
   ],
   "id": "73a284989bf445bd",
   "outputs": [],
   "execution_count": null
  },
  {
   "metadata": {
    "id": "6179742d1e5498e9",
    "outputId": "3b1ad77f-f33b-4e39-f917-8c7f4f640657",
    "colab": {
     "base_uri": "https://localhost:8080/",
     "height": 1000
    }
   },
   "cell_type": "code",
   "source": [
    "df.isnull().sum()"
   ],
   "id": "6179742d1e5498e9",
   "outputs": [],
   "execution_count": null
  },
  {
   "metadata": {
    "id": "17b123f948a859a1",
    "outputId": "7d40a8e7-2de7-48d3-ddb7-858ef78c8226",
    "colab": {
     "base_uri": "https://localhost:8080/",
     "height": 334
    }
   },
   "cell_type": "code",
   "source": [
    "import seaborn as sns\n",
    "import matplotlib.pyplot as plt\n",
    "\n",
    "plt.figure(figsize=(5, 3))\n",
    "sns.countplot(x=df[\"Attrition\"])\n",
    "plt.title(\"Distribución de empleados que dejan la empresa\")\n",
    "plt.show()\n"
   ],
   "id": "17b123f948a859a1",
   "outputs": [],
   "execution_count": null
  },
  {
   "metadata": {
    "id": "b0fbb97861b80a91",
    "outputId": "f41faed6-4031-4615-8ea7-4ec6e3e6cd79",
    "colab": {
     "base_uri": "https://localhost:8080/"
    }
   },
   "cell_type": "code",
   "source": [
    "print(df.dtypes)"
   ],
   "id": "b0fbb97861b80a91",
   "outputs": [],
   "execution_count": null
  },
  {
   "cell_type": "code",
   "source": [
    "# Convertir canonicos en int\n",
    "# Cogemos las columnas que sean de tipo object y por cada columna la convierte en categorica y la cambia a int\n",
    "df[df.select_dtypes(include='object').columns] = df.select_dtypes(include='object').apply(\n",
    "    lambda x: x.astype('category').cat.codes)"
   ],
   "metadata": {
    "id": "SQscsAkWCjpa",
    "ExecuteTime": {
     "end_time": "2025-03-12T12:32:32.454557Z",
     "start_time": "2025-03-12T12:32:32.452886Z"
    }
   },
   "id": "SQscsAkWCjpa",
   "outputs": [],
   "execution_count": null
  },
  {
   "cell_type": "code",
   "source": [
    "print(df.dtypes)"
   ],
   "metadata": {
    "colab": {
     "base_uri": "https://localhost:8080/"
    },
    "id": "fcSlUhqqEGqj",
    "outputId": "a8e615e4-5219-4f2d-93ea-ed745bfb0c72"
   },
   "id": "fcSlUhqqEGqj",
   "outputs": [],
   "execution_count": null
  },
  {
   "metadata": {
    "id": "43893844a6c8a1a6",
    "outputId": "7b2d5f68-a6da-4145-a31b-70a8cc2c66ce",
    "colab": {
     "base_uri": "https://localhost:8080/",
     "height": 513
    }
   },
   "cell_type": "code",
   "source": [
    "corr = df.select_dtypes(include=[int, float]).corr()\n",
    "plt.figure(figsize=(10, 6))\n",
    "sns.heatmap(corr, annot=True, cmap=\"coolwarm\", fmt=\".2f\")\n",
    "plt.title(\"Matriz de correlación\")\n",
    "plt.show()"
   ],
   "id": "43893844a6c8a1a6",
   "outputs": [],
   "execution_count": null
  },
  {
   "cell_type": "code",
   "source": [
    "# Eliminamos algunas variables que no tengan ningun tipo de utilidad\n",
    "# Eliminamos una variable si hay dos que son muy similares (PercentSalaryHike y Performance) y (YearsWithCurrManager y Years at the company)\n",
    "df = df.drop([\"Over18\", \"EmployeeID\", \"YearsWithCurrManager\", \"PercentSalaryHike\"], axis=1)"
   ],
   "metadata": {
    "id": "CVxbvnelCfu6",
    "ExecuteTime": {
     "end_time": "2025-03-12T12:32:27.615473Z",
     "start_time": "2025-03-12T12:32:27.300402Z"
    }
   },
   "id": "CVxbvnelCfu6",
   "outputs": [
    {
     "ename": "NameError",
     "evalue": "name 'df' is not defined",
     "output_type": "error",
     "traceback": [
      "\u001B[0;31m---------------------------------------------------------------------------\u001B[0m",
      "\u001B[0;31mNameError\u001B[0m                                 Traceback (most recent call last)",
      "Cell \u001B[0;32mIn[1], line 3\u001B[0m\n\u001B[1;32m      1\u001B[0m \u001B[38;5;66;03m# Eliminamos algunas variables que no tengan ningun tipo de utilidad\u001B[39;00m\n\u001B[1;32m      2\u001B[0m \u001B[38;5;66;03m# Eliminamos una variable si hay dos que son muy similares (PercentSalaryHike y Performance) y (YearsWithCurrManager y Years at the company)\u001B[39;00m\n\u001B[0;32m----> 3\u001B[0m df \u001B[38;5;241m=\u001B[39m \u001B[43mdf\u001B[49m\u001B[38;5;241m.\u001B[39mdrop([ \u001B[38;5;124m\"\u001B[39m\u001B[38;5;124mOver18\u001B[39m\u001B[38;5;124m\"\u001B[39m,\u001B[38;5;124m\"\u001B[39m\u001B[38;5;124mEmployeeID\u001B[39m\u001B[38;5;124m\"\u001B[39m, \u001B[38;5;124m\"\u001B[39m\u001B[38;5;124mYearsWithCurrManager\u001B[39m\u001B[38;5;124m\"\u001B[39m,\u001B[38;5;124m\"\u001B[39m\u001B[38;5;124mPercentSalaryHike\u001B[39m\u001B[38;5;124m\"\u001B[39m], axis\u001B[38;5;241m=\u001B[39m\u001B[38;5;241m1\u001B[39m)\n",
      "\u001B[0;31mNameError\u001B[0m: name 'df' is not defined"
     ]
    }
   ],
   "execution_count": 1
  },
  {
   "cell_type": "code",
   "source": [
    "df.to_csv(\"attrition_availabledata_07.csv\")"
   ],
   "metadata": {
    "id": "6Vf-9WNeRE90"
   },
   "id": "6Vf-9WNeRE90",
   "execution_count": 28,
   "outputs": []
  }
 ],
 "metadata": {
  "kernelspec": {
   "display_name": "Python 3",
   "language": "python",
   "name": "python3"
  },
  "language_info": {
   "codemirror_mode": {
    "name": "ipython",
    "version": 2
   },
   "file_extension": ".py",
   "mimetype": "text/x-python",
   "name": "python",
   "nbconvert_exporter": "python",
   "pygments_lexer": "ipython2",
   "version": "2.7.6"
  },
  "colab": {
   "provenance": []
  }
 },
 "nbformat": 4,
 "nbformat_minor": 5
}
