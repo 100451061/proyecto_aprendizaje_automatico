{
  "cells": [
    {
      "metadata": {
        "id": "62dbb5f5998d1616"
      },
      "cell_type": "markdown",
      "source": [
        "# Predicción de Abandono de Empleados (Attrition) - prediccion.ipynb\n",
        "\n",
        "Este notebook realiza la predicción final del estado de abandono (\"Attrition\") sobre el conjunto de datos proporcionado para competición. Se utiliza el mejor modelo previamente entrenado (`modelo_final.pkl`), que fue un KNN optimizado mediante validación cruzada.\n"
      ],
      "id": "62dbb5f5998d1616"
    },
    {
      "cell_type": "markdown",
      "source": [
        "# 1. Importar librerías necesarias"
      ],
      "metadata": {
        "id": "QI8Rwo_ri2oT"
      },
      "id": "QI8Rwo_ri2oT"
    },
    {
      "metadata": {
        "id": "f52e219b26000e57"
      },
      "cell_type": "code",
      "outputs": [],
      "execution_count": null,
      "source": [
        "import joblib\n",
        "import pandas as pd"
      ],
      "id": "f52e219b26000e57"
    },
    {
      "metadata": {
        "id": "cc31d0784d464015"
      },
      "cell_type": "markdown",
      "source": [
        "## 2. Cargar el modelo entrenado y las columnas utilizadas en el entrenamiento"
      ],
      "id": "cc31d0784d464015"
    },
    {
      "metadata": {
        "id": "2aed8e3e0990e86e"
      },
      "cell_type": "code",
      "outputs": [],
      "execution_count": null,
      "source": [
        "# Cargar el modelo final\n",
        "modelo_final = joblib.load(\"modelo_final.pkl\")\n",
        "\n",
        "# Cargar las columnas usadas durante el entrenamiento\n",
        "columnas_entrenamiento = joblib.load(\"columnas_entrenamiento.pkl\")"
      ],
      "id": "2aed8e3e0990e86e"
    },
    {
      "metadata": {
        "id": "4064019c1c6f73cf"
      },
      "cell_type": "markdown",
      "source": [
        "## 3. Cargar el archivo de datos para competición\n"
      ],
      "id": "4064019c1c6f73cf"
    },
    {
      "metadata": {
        "id": "cc6145b3923b6ca1"
      },
      "cell_type": "code",
      "outputs": [],
      "execution_count": null,
      "source": [
        "# Leer el archivo comprimido .csv.gz con los datos de competición\n",
        "df_comp = pd.read_csv(\"/content/attrition_competition_07.csv.gz\", compression=\"gzip\")"
      ],
      "id": "cc6145b3923b6ca1"
    },
    {
      "metadata": {
        "id": "2ec50670964fc59"
      },
      "cell_type": "markdown",
      "source": [
        "## 4. Codificar las variables categóricas (one-hot encoding)\n"
      ],
      "id": "2ec50670964fc59"
    },
    {
      "metadata": {
        "id": "49f32646934471b1"
      },
      "cell_type": "code",
      "outputs": [],
      "execution_count": null,
      "source": [
        "# Obtener variables dummy\n",
        "df_comp_encoded = pd.get_dummies(df_comp)"
      ],
      "id": "49f32646934471b1"
    },
    {
      "metadata": {
        "id": "147e08ad646a2072"
      },
      "cell_type": "markdown",
      "source": [
        "## 5. Alinear las columnas con las del modelo entrenado\n"
      ],
      "id": "147e08ad646a2072"
    },
    {
      "metadata": {
        "id": "c0afa2629ba3187e"
      },
      "cell_type": "code",
      "outputs": [],
      "execution_count": null,
      "source": [
        "# Rellenar columnas faltantes con 0\n",
        "df_comp_encoded = df_comp_encoded.reindex(columns=columnas_entrenamiento, fill_value=0)"
      ],
      "id": "c0afa2629ba3187e"
    },
    {
      "metadata": {
        "id": "a08e58948efcfe20"
      },
      "cell_type": "code",
      "outputs": [],
      "execution_count": null,
      "source": [],
      "id": "a08e58948efcfe20"
    },
    {
      "metadata": {
        "id": "d9dd2dd7f2edb9b6"
      },
      "cell_type": "markdown",
      "source": [
        "## 6. Hacer predicciones usando el modelo\n"
      ],
      "id": "d9dd2dd7f2edb9b6"
    },
    {
      "metadata": {
        "id": "88e24d601ffb576c"
      },
      "cell_type": "code",
      "outputs": [],
      "execution_count": null,
      "source": [
        "predicciones = modelo_final.predict(df_comp_encoded)\n"
      ],
      "id": "88e24d601ffb576c"
    },
    {
      "metadata": {
        "id": "8f52a177554a594b"
      },
      "cell_type": "markdown",
      "source": [
        "## 7. Convertir las predicciones a texto: \"Yes\" y \"No\"\n"
      ],
      "id": "8f52a177554a594b"
    },
    {
      "metadata": {
        "id": "dfef8ce0ae6750c9"
      },
      "cell_type": "code",
      "outputs": [],
      "execution_count": null,
      "source": [
        "# Convertir booleanos o enteros a texto\n",
        "predicciones_texto = pd.Series(predicciones).map({False: \"No\", True: \"Yes\"})\n",
        "predicciones_texto.head()\n"
      ],
      "id": "dfef8ce0ae6750c9"
    }
  ],
  "metadata": {
    "kernelspec": {
      "display_name": "Python 3",
      "language": "python",
      "name": "python3"
    },
    "language_info": {
      "codemirror_mode": {
        "name": "ipython",
        "version": 2
      },
      "file_extension": ".py",
      "mimetype": "text/x-python",
      "name": "python",
      "nbconvert_exporter": "python",
      "pygments_lexer": "ipython2",
      "version": "2.7.6"
    },
    "colab": {
      "provenance": []
    }
  },
  "nbformat": 4,
  "nbformat_minor": 5
}