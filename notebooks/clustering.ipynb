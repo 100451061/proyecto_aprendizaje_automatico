{
 "cells": [
  {
   "cell_type": "markdown",
   "metadata": {},
   "source": [
    "### Instalación de librerías necesarias\n",
    "Si no tienes instaladas las librerías requeridas para este notebook, ejecuta la siguiente celda:\n"
   ]
  },
  {
   "cell_type": "code",
   "execution_count": null,
   "metadata": {},
   "outputs": [],
   "source": [
    "!pip install matplotlib seaborn scikit-learn pandas"
   ]
  },
  {
   "cell_type": "markdown",
   "metadata": {},
   "source": [
    "O bien:"
   ]
  },
  {
   "cell_type": "code",
   "execution_count": null,
   "metadata": {},
   "outputs": [],
   "source": [
    "import sys\n",
    "!{sys.executable} -m pip install pandas matplotlib seaborn scikit-learn"
   ]
  },
  {
   "cell_type": "markdown",
   "metadata": {},
   "source": [
    "## 1. Comparación visual de escaladores con PCA\n",
    "\n",
    "En esta primera parte, queremos observar cómo afectan tres métodos de escalado diferentes (`StandardScaler`, `MinMaxScaler` y `RobustScaler`) a la forma en la que se distribuyen los datos cuando los reducimos a 2 dimensiones usando PCA.\n",
    "\n",
    "Aunque el objetivo final es hacer clustering, primero necesitamos transformar los datos para que las variables estén en una escala comparable. Esto nos ayuda a evitar que algunas características dominen a otras simplemente por tener valores más grandes.\n",
    "\n",
    "Vamos a usar una `pipeline` que aplica el escalado y luego el PCA. Finalmente, representamos los datos en un gráfico para comparar los resultados.\n"
   ]
  },
  {
   "cell_type": "code",
   "execution_count": 6,
   "metadata": {},
   "outputs": [],
   "source": [
    "# importamos librerias necesarias\n",
    "import pandas as pd\n",
    "import numpy as np\n",
    "import matplotlib.pyplot as plt\n",
    "from sklearn.cluster import KMeans\n",
    "from sklearn.preprocessing import StandardScaler\n",
    "from sklearn.metrics import silhouette_score\n",
    "from scipy.spatial.distance import cdist\n",
    "import numpy as np\n",
    "import seaborn as sns"
   ]
  },
  {
   "cell_type": "code",
   "execution_count": 8,
   "metadata": {},
   "outputs": [],
   "source": [
    "# Cargar el dataset de semillas\n",
    "df = pd.read_csv('../semillas.csv')\n",
    "\n",
    "# Separar atributos (X) y clase (y)\n",
    "X = df.drop(columns=['clase']).values\n",
    "y = df['clase'].values  # Solo para colorear el gráfico (NO usar en clustering)"
   ]
  }
 ],
 "metadata": {
  "kernelspec": {
   "display_name": "Python 3",
   "language": "python",
   "name": "python3"
  },
  "language_info": {
   "codemirror_mode": {
    "name": "ipython",
    "version": 3
   },
   "file_extension": ".py",
   "mimetype": "text/x-python",
   "name": "python",
   "nbconvert_exporter": "python",
   "pygments_lexer": "ipython3",
   "version": "3.12.6"
  }
 },
 "nbformat": 4,
 "nbformat_minor": 2
}
