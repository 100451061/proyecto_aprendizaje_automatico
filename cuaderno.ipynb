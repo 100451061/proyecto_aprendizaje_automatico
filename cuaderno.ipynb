{
 "cells": [
  {
   "metadata": {},
   "cell_type": "markdown",
   "source": [
    "# Predicción del Abandono (Burnout) de Empleados\n",
    "## Práctica 1 - Aprendizaje Automático (2024/2025)\n",
    "### Universidad Carlos III de Madrid\n",
    "\n",
    "---\n",
    "\n",
    "### Autores:\n",
    "- **Pablo Moreno González** (NIA: 100451061)\n",
    "- **Ignacio Leal Sánchez** (NIA: 100495680)\n",
    "\n",
    "---\n",
    "\n",
    "### Descripción:\n",
    "- Este notebook forma parte de la **Práctica 1** de la asignatura **Aprendizaje Automático** y tiene como objetivo desarrollar un modelo de **aprendizaje automático** para predecir si un empleado abandonará la empresa. Se aplicarán diferentes modelos, técnicas de preprocesamiento y optimización de hiperparámetros.\n",
    "\n",
    "---\n",
    "\n",
    "### Entrega:\n",
    "- **Fecha**: 8 de abril de 2025\n",
    "- **Hora**: 23:59\n",
    "---\n",
    "\n",
    "### Contenidos:\n",
    "- **Introducción**: Descripción del proyecto y autores.\n",
    "\n",
    "---\n",
    "\n",
    "### Reproducibilidad:\n",
    "- Se fija la **semilla aleatoria** con el NIA de uno de los miembros del grupo.\n",
    "- Se documentan los pasos seguidos en cada celda.\n",
    "\n",
    "---"
   ],
   "id": "aced3a6ee4276aad"
  }
 ],
 "metadata": {
  "kernelspec": {
   "display_name": "Python 3",
   "language": "python",
   "name": "python3"
  },
  "language_info": {
   "codemirror_mode": {
    "name": "ipython",
    "version": 2
   },
   "file_extension": ".py",
   "mimetype": "text/x-python",
   "name": "python",
   "nbconvert_exporter": "python",
   "pygments_lexer": "ipython2",
   "version": "2.7.6"
  }
 },
 "nbformat": 4,
 "nbformat_minor": 5
}
